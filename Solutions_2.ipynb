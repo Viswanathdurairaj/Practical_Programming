{
 "cells": [
  {
   "cell_type": "markdown",
   "metadata": {},
   "source": [
    "# ## Comparing the efficiency of Python loops with vectorisation [25 points]\n",
    "\n",
    "\n",
    "## Fill in 2D Numpy array recursively, and compute execution times.\n",
    "\n",
    "M is a 2D array with dimensions $N \\times N$, where $N > 1$ is an integer. It is defined as following. The first column is just the set of numbers 0, 1, ... N-1. The first row of elements is zero. The rest of the array is computed via a recrsive formula in which the element is equal to the sum of (a) the one just above and (b) also the element above and to the left. The figure below illustrates this: to compute the value of the element in the red oval, we add the two elements in the blue box.\n",
    "\n",
    "<div class=\"clearfix\" style=\"padding: 10px; padding-left: 0px\">\n",
    "<img src=\"2nd_Ass_matrix_problem.png\" width=\"300px\" class=\"pull-left\" style=\"display: inline-block; margin: 0px;\">\n",
    "</div>\n",
    "\n",
    "* (1) For any $N$, define a function $F_1$ that would implement this recursive process, filling in M, by **using two `for` loops** to loop over columns and rows. Print your resulting matrix M1 for $N=8$. [4]\n",
    "\n",
    "* (2) Define another function $F_2$ that achieves the same goal **but uses only one `for` loop** to go over rows of M2. That is, for each row, start from the left of it, and fill the row in by going to the right end of the row. Print your resulting matrix M2. [4]\n",
    "\n",
    "* (3) Visualise matrix M1 for some value of $N$, e.g., $N=10$, with `imgshow`. [3]\n",
    "\n",
    "* (4) In the rest of the Task we measure code efficiency of the two methods as a function of the number of elements in the matrix. Define an array $N_t = 2^i$, where $i = 0, 1, 2, ... 12$. For each value of $N_t$ find the matrices $M_1$, $M_2$ (**do not print them as they become large**), and the time it took your code to do so, $t_1(N_t)$ and $t_2(N_t)$. Print your $t_N$ in a clear fashion. [3]\n",
    "\n",
    "* (5) Plot the resulting execution times $t_1$ and $t_2$ versus $N_t$. Try to make your plot as clear as possible. Analyse your results, and make **quantitative** conclusions about how large $t_1$ and $t_2$ would be for a very large $N_t$, e.g. $N_t = 10^5$. [11]"
   ]
  },
  {
   "cell_type": "code",
   "execution_count": 13,
   "metadata": {},
   "outputs": [
    {
     "name": "stdout",
     "output_type": "stream",
     "text": [
      "Enter the nmber of rows/columns:8\n"
     ]
    },
    {
     "data": {
      "text/plain": [
       "array([[ 0,  0,  0,  0,  0,  0,  0,  0],\n",
       "       [ 1,  0,  0,  0,  0,  0,  0,  0],\n",
       "       [ 2,  1,  0,  0,  0,  0,  0,  0],\n",
       "       [ 3,  3,  1,  0,  0,  0,  0,  0],\n",
       "       [ 4,  6,  4,  1,  0,  0,  0,  0],\n",
       "       [ 5, 10, 10,  5,  1,  0,  0,  0],\n",
       "       [ 6, 15, 20, 15,  6,  1,  0,  0],\n",
       "       [ 7, 21, 35, 35, 21,  7,  1,  0]])"
      ]
     },
     "execution_count": 13,
     "metadata": {},
     "output_type": "execute_result"
    }
   ],
   "source": [
    "#Task2: Matrix M2\n",
    "\n",
    "N= int(input(\"Enter the nmber of rows/columns:\"))\n",
    "\n",
    "def F2(N):\n",
    "    M2=np.zeros((N*N),int)\n",
    "    for i in range(N,N*N):\n",
    "        if(i%N==0):\n",
    "            M2[i]=i/N\n",
    "        else:\n",
    "            M2[i]=M2[i-(N+1)]+M2[i-N]\n",
    "    M2=np.reshape(M2,(N,N))\n",
    "    return(M2)\n",
    "F2(N)"
   ]
  },
  {
   "cell_type": "code",
   "execution_count": 14,
   "metadata": {},
   "outputs": [
    {
     "data": {
      "image/png": "[encoded data removed]",
      "text/plain": [
       "<Figure size 720x504 with 2 Axes>"
      ]
     },
     "metadata": {
      "needs_background": "light"
     },
     "output_type": "display_data"
    }
   ],
   "source": [
    "#Task3: Matrix M1 Visualisation\n",
    "import numpy as np\n",
    "import matplotlib.pyplot as plt\n",
    "plt.figure(figsize=(10, 7))\n",
    "plt.imshow(F1(10), extent = [0,10,10,0])\n",
    "#plt.imshow(F1(10))\n",
    "plt.colorbar()\n",
    "plt.title('Matrix M1')\n",
    "plt.xlabel(r'$x$')\n",
    "plt.ylabel(r'$y$')\n",
    "plt.show()"
   ]
  },
  {
   "cell_type": "code",
   "execution_count": 19,
   "metadata": {},
   "outputs": [
    {
     "name": "stdout",
     "output_type": "stream",
     "text": [
      "Execution time for respective N_t: [0.0, 0.0, 0.0009791851043701172, 0.0, 0.0, 0.0009999275207519531, 0.0029888153076171875, 0.011966228485107422, 0.05588197708129883, 0.19148802757263184, 0.7699172496795654, 3.339329242706299, 12.542363405227661]\n",
      "Exection time for F1: 16.915914058685303 seconds\n"
     ]
    }
   ],
   "source": [
    "#Task4: Execution time(t1) for F1\n",
    "import time\n",
    "import warnings\n",
    "warnings.filterwarnings('ignore')\n",
    "t1 = time.time() # calculate the execution time for the code\n",
    "N1=[]\n",
    "T1=[]\n",
    "\n",
    "for i in range(13):\n",
    "    N_t=2**i\n",
    "    ti = time.time()\n",
    "    F1(N_t)\n",
    "    N1.append(N_t)\n",
    "    T1.append(time.time() - ti)\n",
    "print(\"Execution time for respective N_t:\" ,T1)\n",
    "print(\"Exection time for F1:\",\"%s seconds\" % (time.time() - t1))\n"
   ]
  },
  {
   "cell_type": "code",
   "execution_count": 20,
   "metadata": {},
   "outputs": [
    {
     "name": "stdout",
     "output_type": "stream",
     "text": [
      "Execution time for respective N_t: [0.0, 0.0, 0.0, 0.0, 0.0010292530059814453, 0.001001596450805664, 0.0039861202239990234, 0.012935161590576172, 0.051856279373168945, 0.22439908981323242, 0.8348488807678223, 2.981532573699951, 11.297597885131836]\n",
      "Exection time for F2: 15.410135746002197 seconds\n"
     ]
    }
   ],
   "source": [
    "#Task4: Execution time(t2) for F2\n",
    "import time\n",
    "import warnings\n",
    "warnings.filterwarnings('ignore')\n",
    "t2 = time.time()\n",
    "N2=[]\n",
    "T2=[]\n",
    "for i in range(13):\n",
    "    N_t=2**i\n",
    "    ti = time.time()  \n",
    "    F2(N_t)\n",
    "    N2.append(N_t)\n",
    "    T2.append(time.time() - ti)\n",
    "print(\"Execution time for respective N_t:\" ,T2)\n",
    "print(\"Exection time for F2:\",\"%s seconds\" % (time.time() - t2))"
   ]
  },
  {
   "cell_type": "code",
   "execution_count": 7,
   "metadata": {},
   "outputs": [
    {
     "data": {
      "image/png": "[encoded data removed]",
      "text/plain": [
       "<Figure size 432x288 with 1 Axes>"
      ]
     },
     "metadata": {
      "needs_background": "light"
     },
     "output_type": "display_data"
    }
   ],
   "source": [
    "#Task5:Plotting execution times t1 and t2 versus  N_t\n",
    "\n",
    "plt.show()\n",
    "plt.plot(N1,T1,color='b',label=\"F1\")\n",
    "plt.plot(N2,T2,color='r',label=\"F2\")\n",
    "plt.legend()\n",
    "plt.grid()\n",
    "\n",
    "plt.xlabel(\"N_t\")\n",
    "\n",
    "plt.ylabel(\"Execution time(second):\")\n",
    "\n",
    "plt.title(\"Execution time\")\n",
    "\n",
    "plt.show()"
   ]
  },
  {
   "cell_type": "markdown",
   "metadata": {},
   "source": [
    "Conclusion : The execution time taken for constructing Matrices M1 and M2 respectively using F1 and F2 is 16.9159140 seconds and  15.410135 seconds. Since F1 consist 2 for loops execution time for F1 is almost 10% higher than F2."
   ]
  },
  {
   "cell_type": "code",
   "execution_count": 9,
   "metadata": {},
   "outputs": [
    {
     "name": "stdout",
     "output_type": "stream",
     "text": [
      "Execution time for F1 for N=10^4: 142.70575881004333 seconds\n",
      "Execution time for F2 for N=10^4: 66.94597887992859 seconds\n"
     ]
    }
   ],
   "source": [
    "#Task5: Execution time for N=10 ^ 4\n",
    "\n",
    "N=10**4\n",
    "t1 = time.time()\n",
    "F1(N)\n",
    "t2=time.time()\n",
    "F2(N)\n",
    "print(\"Execution time for F1 for N=10^4:\",\"%s seconds\" % (time.time() - t1))\n",
    "print(\"Execution time for F2 for N=10^4:\",\"%s seconds\" % (time.time() - t2))"
   ]
  },
  {
   "cell_type": "code",
   "execution_count": null,
   "metadata": {},
   "outputs": [],
   "source": []
  }
 ],
 "metadata": {
  "celltoolbar": "Edit Metadata",
  "kernelspec": {
   "display_name": "Python 3",
   "language": "python",
   "name": "python3"
  },
  "language_info": {
   "codemirror_mode": {
    "name": "ipython",
    "version": 3
   },
   "file_extension": ".py",
   "mimetype": "text/x-python",
   "name": "python",
   "nbconvert_exporter": "python",
   "pygments_lexer": "ipython3",
   "version": "3.8.8"
  }
 },
 "nbformat": 4,
 "nbformat_minor": 4
}
