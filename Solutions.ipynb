{
 "cells": [
  {
   "cell_type": "markdown",
   "metadata": {},
   "source": [
    "\n",
    "\n",
    "## Problem 1: String alphabet analysis [13 points]\n",
    "\n",
    "\n",
    "In the cell below, write a piece of code that will do the following work:\n",
    "\n",
    "* (1) Introduce an arbitrary string of English text (you may cut and paste any text from an article on the web, etc.) The string should contain between 100 and 300 charachters, and contain some numbers, such as 1 or 27 etc. Ask your code to print the length of the string, and the number of words in the string, and have your program print the results in a clear way. Hint: treat anything separated by a white space ' '  as a word. For example, the sting `\"This weather today is 2 times better than yesterday; it's not raining and it's warm\"` contains 15 words in this definition. [4 points] \n",
    "\n",
    "* (2) Print the string in reverse, also replacing all instances of the letter 'b' with the letter 'X', and printing everything in the lower case. Can you do it in one line? [2]\n",
    "\n",
    "* (3) Write code to calculate the number of times the letter 'a' appears in the string, and print the result. Use the `format` method in the print statement. Then, using the python `for` loop, do the same for the remaining letters in the alphabet, counting both upper and lower case letters. Also create a list of all the letters missing from your string and print it. [5 points]\n",
    "\n",
    "* (4) Remove all digits between 0 to 8 from the string. Also, find any digits `9` in the string and replace them with the word 'nine'. [2 points]\n",
    "\n",
    "\n",
    "Hints:\n",
    "\n",
    "The following lines load English alphabet as a string in python, which should make it easier to do the task.\n",
    "\n",
    "```python\n",
    "import string\n",
    "alphabet = string.ascii_lowercase\n",
    "print(alphabet)\n",
    "```\n"
   ]
  },
  {
   "cell_type": "code",
   "execution_count": 14,
   "metadata": {},
   "outputs": [
    {
     "ename": "SyntaxError",
     "evalue": "invalid syntax (<ipython-input-14-6e05a2ed055c>, line 31)",
     "output_type": "error",
     "traceback": [
      "\u001b[1;36m  File \u001b[1;32m\"<ipython-input-14-6e05a2ed055c>\"\u001b[1;36m, line \u001b[1;32m31\u001b[0m\n\u001b[1;33m    return count_lettersmissing_alphabet= []\u001b[0m\n\u001b[1;37m                                        ^\u001b[0m\n\u001b[1;31mSyntaxError\u001b[0m\u001b[1;31m:\u001b[0m invalid syntax\n"
     ]
    }
   ],
   "source": [
    "# Arbitrary string\n",
    "taskas= \"The increase in electricity generation from coal this year as compared to last year, partially due to coal stable prices and a high natural gas cost. The increase comes after the industry hit a 50 year low in 2020 that idled or closed 151 coal mines across the nation.\"\n",
    "print(taskas)\n",
    "print(len(taskas))\n",
    "\n",
    "#split words\n",
    "words=len(taskas.split())\n",
    "print(\"Total number of words are:\",str(words))\n",
    "\n",
    "#replace letter\n",
    "print(taskas.replace('b','X').lower()[::-1])\n",
    "\n",
    "#count a\n",
    "counta=taskas.count('a')\n",
    "print(counta)\n",
    "print('number of times a repeated:{}'.format(taskas.count('a')))\n",
    "\n",
    "\n",
    "#Problem 1.3\n",
    "\n",
    "import string\n",
    "alphabet = string.ascii_lowercase\n",
    "print(alphabet)\n",
    "\n",
    "# Calculate the number of times the alphabets appears in string and also list of missing alphabets.\n",
    "def Calculatealphabet(alpha):\n",
    "    count_letters =0\n",
    "for i in task1:\n",
    "    if (i==alpha.lower() or i==alpha.upper()):\n",
    "        count_letters +=1\n",
    "        return count_lettersmissing_alphabet= []\n",
    "for i in alphabet:\n",
    "    count_letters_missing = Calculatealphabet(i)\n",
    "    if count_letters_missing == 0:\n",
    "    missing_alphabet +=[i]\n",
    "    print(\"Count of {} = {}\".format(i,count_letters_missing))\n",
    "    print(\"List of missing letters: \", missing_alphabet)\n",
    "\n",
    "\n",
    "\n",
    "#alphabet_missing:\n",
    "alphabet_missing = []\n",
    "for i in range(len(list1)):\n",
    "    if list1[i] == 0:\n",
    "        alphabet_missing.append(alphabet[i])\n",
    "\n",
    "print(alphabet_missing)\n",
    "\n",
    "# Replace digits:\n",
    "for i in range(9):\n",
    "    if i != 9:\n",
    "        taskas = taskas.replace(str(i),\"\")\n",
    "    else:\n",
    "        taskas = taskas.replace(str(i), 'nine')\n",
    "print(taskas)\n"
   ]
  },
  {
   "cell_type": "markdown",
   "metadata": {},
   "source": [
    "## Problem 2. Dictionary and breaking the loop [12 points]\n",
    "\n",
    "Introduce a string `s` (e.g., a sentence) with 10 different words in it. \n",
    "\n",
    "* Create a dictionary called `d` where the key is the order of the word in the string (remeber, we start with index 0 in python), and the value is the word. Print `d`. [3]\n",
    "\n",
    "* Run a `for` loop and draw 20 random numbers from 0 to 9. These numbers are our random keys. Using the dictionary `d`, create a new sentence in a string `s_new` by adding the words corresponding to the random keys in `d`. Print `s_new`. [4]\n",
    "\n",
    "* Now use another `for` loop to go over the dictionary `d`. For each word in `d`, count the number of times it is present in `s_new`. If the loop encounters a word that is in `d` but not in `s_new`, then exit the loop with the `break` statement, printing the message  `'word' is missing in s_new`, where `word` is the missing one. [5]"
   ]
  },
  {
   "cell_type": "code",
   "execution_count": 11,
   "metadata": {},
   "outputs": [
    {
     "name": "stdout",
     "output_type": "stream",
     "text": [
      "{'0': 'We', '1': 'will', '2': 'go', '3': 'home', '4': 'at', '5': 'the', '6': 'end', '7': 'of', '8': 'any', '9': 'day'}\n",
      "end day of day any go day of day go any go home We end the day home will end \n",
      "The word\" We\" appears 1 times in s_new\n",
      "The word\" will\" appears 1 times in s_new\n",
      "The word\" go\" appears 3 times in s_new\n",
      "The word\" home\" appears 2 times in s_new\n",
      "The word\"at\" is missing in s_new\n"
     ]
    }
   ],
   "source": [
    "#Your Answer to problem 2 in this cell:\n",
    "\n",
    "\n",
    "#hardest way\n",
    "#s = \"We will go home at the end of any day\"\n",
    "#d={'0':'We', '1': 'will', '2':'go', '3': 'home', '4': 'at', '5':'the','6':'end','7':'of', '8':'any','9':'day'}\n",
    "#print(d)\n",
    "\n",
    "#easiest way\n",
    "s = \"We will go home at the end of any day\"\n",
    "d={}\n",
    "snew= s.split()\n",
    "for n in range(len(snew)):\n",
    "    d[str(n)]= snew[n]\n",
    "print(d)\n",
    "\n",
    "#Random picker\n",
    "import random\n",
    "s_new=''\n",
    "Random=[]\n",
    "for Y in range(20):\n",
    "    Random.append(random.randint(0,9))\n",
    "for i in Random:\n",
    "    s_new = s_new + d[str(i)] + \" \"\n",
    "print(s_new)\n",
    "\n",
    "#Missing word\n",
    "\n",
    "for i in d:\n",
    "    if s_new.count(d[i]) ==0:\n",
    "        print('The word\"{}\" is missing in s_new' .format(d[i]))\n",
    "        break\n",
    "    else:\n",
    "        print('The word\" {}\" appears {} times in s_new' .format(d[i],s_new.count(d[i])))"
   ]
  },
  {
   "cell_type": "code",
   "execution_count": null,
   "metadata": {},
   "outputs": [],
   "source": []
  }
 ],
 "metadata": {
  "celltoolbar": "Edit Metadata",
  "kernelspec": {
   "display_name": "Python 3",
   "language": "python",
   "name": "python3"
  },
  "language_info": {
   "codemirror_mode": {
    "name": "ipython",
    "version": 3
   },
   "file_extension": ".py",
   "mimetype": "text/x-python",
   "name": "python",
   "nbconvert_exporter": "python",
   "pygments_lexer": "ipython3",
   "version": "3.8.8"
  }
 },
 "nbformat": 4,
 "nbformat_minor": 1
}
